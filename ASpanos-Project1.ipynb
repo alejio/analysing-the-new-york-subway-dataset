{
 "metadata": {
  "name": "",
  "signature": "sha256:1c86c51f6b4b9f062f33d321001395c3095f2367a11480e8eeaa7a597f91bea5"
 },
 "nbformat": 3,
 "nbformat_minor": 0,
 "worksheets": [
  {
   "cells": [
    {
     "cell_type": "heading",
     "level": 1,
     "metadata": {},
     "source": [
      "Exploratory analysis of data set"
     ]
    },
    {
     "cell_type": "heading",
     "level": 6,
     "metadata": {},
     "source": [
      "Import modules"
     ]
    },
    {
     "cell_type": "code",
     "collapsed": false,
     "input": [
      "%matplotlib inline\n",
      "import matplotlib\n",
      "import numpy as np\n",
      "import matplotlib.pyplot as plt\n",
      "#import pandas as pd\n",
      "import statsmodels.api as sm\n",
      "import statsmodels.formula.api as smf   \n",
      "# a utility function to only show the coeff section of summary\n",
      "from IPython.core.display import HTML\n",
      "from scipy.stats.stats import pearsonr\n",
      "from patsy import EvalEnvironment, ModelDesc\n",
      "import seaborn as sns\n",
      "import pylab as pl\n",
      "import scipy\n",
      "from IPython.display import display\n",
      "import datetime\n",
      "from mpl_toolkits.basemap import Basemap\n",
      "from IPython import display\n",
      "import time\n",
      "import pandas as pd\n",
      "import statsmodels.api as sm\n",
      "import statsmodels.formula.api as smf\n",
      "from IPython.core.display import HTML\n",
      "from scipy.stats.stats import pearsonr\n",
      "from patsy import EvalEnvironment, ModelDesc\n",
      "import matplotlib.patches as mpatches"
     ],
     "language": "python",
     "metadata": {},
     "outputs": [],
     "prompt_number": 2
    },
    {
     "cell_type": "heading",
     "level": 6,
     "metadata": {},
     "source": [
      "Read data"
     ]
    },
    {
     "cell_type": "code",
     "collapsed": false,
     "input": [
      "df=pd.read_csv(\"turnstile_weather_v2.csv\")\n",
      "df_orig=df"
     ],
     "language": "python",
     "metadata": {},
     "outputs": [],
     "prompt_number": 3
    },
    {
     "cell_type": "heading",
     "level": 6,
     "metadata": {},
     "source": [
      "Get a feel for the data"
     ]
    },
    {
     "cell_type": "code",
     "collapsed": false,
     "input": [
      "df.describe() #Descriptives of each variable"
     ],
     "language": "python",
     "metadata": {},
     "outputs": [
      {
       "html": [
        "<div style=\"max-height:1000px;max-width:1500px;overflow:auto;\">\n",
        "<table border=\"1\" class=\"dataframe\">\n",
        "  <thead>\n",
        "    <tr style=\"text-align: right;\">\n",
        "      <th></th>\n",
        "      <th>ENTRIESn</th>\n",
        "      <th>EXITSn</th>\n",
        "      <th>ENTRIESn_hourly</th>\n",
        "      <th>EXITSn_hourly</th>\n",
        "      <th>hour</th>\n",
        "      <th>day_week</th>\n",
        "      <th>weekday</th>\n",
        "      <th>latitude</th>\n",
        "      <th>longitude</th>\n",
        "      <th>fog</th>\n",
        "      <th>...</th>\n",
        "      <th>pressurei</th>\n",
        "      <th>rain</th>\n",
        "      <th>tempi</th>\n",
        "      <th>wspdi</th>\n",
        "      <th>meanprecipi</th>\n",
        "      <th>meanpressurei</th>\n",
        "      <th>meantempi</th>\n",
        "      <th>meanwspdi</th>\n",
        "      <th>weather_lat</th>\n",
        "      <th>weather_lon</th>\n",
        "    </tr>\n",
        "  </thead>\n",
        "  <tbody>\n",
        "    <tr>\n",
        "      <th>count</th>\n",
        "      <td> 4.264900e+04</td>\n",
        "      <td> 4.264900e+04</td>\n",
        "      <td> 42649.000000</td>\n",
        "      <td> 42649.000000</td>\n",
        "      <td> 42649.000000</td>\n",
        "      <td> 42649.000000</td>\n",
        "      <td> 42649.000000</td>\n",
        "      <td> 42649.000000</td>\n",
        "      <td> 42649.000000</td>\n",
        "      <td> 42649.000000</td>\n",
        "      <td>...</td>\n",
        "      <td> 42649.000000</td>\n",
        "      <td> 42649.000000</td>\n",
        "      <td> 42649.000000</td>\n",
        "      <td> 42649.000000</td>\n",
        "      <td> 42649.000000</td>\n",
        "      <td> 42649.000000</td>\n",
        "      <td> 42649.000000</td>\n",
        "      <td> 42649.000000</td>\n",
        "      <td> 42649.000000</td>\n",
        "      <td> 42649.000000</td>\n",
        "    </tr>\n",
        "    <tr>\n",
        "      <th>mean</th>\n",
        "      <td> 2.812486e+07</td>\n",
        "      <td> 1.986993e+07</td>\n",
        "      <td>  1886.589955</td>\n",
        "      <td>  1361.487866</td>\n",
        "      <td>    10.046754</td>\n",
        "      <td>     2.905719</td>\n",
        "      <td>     0.714436</td>\n",
        "      <td>    40.724647</td>\n",
        "      <td>   -73.940364</td>\n",
        "      <td>     0.009824</td>\n",
        "      <td>...</td>\n",
        "      <td>    29.971096</td>\n",
        "      <td>     0.224741</td>\n",
        "      <td>    63.103780</td>\n",
        "      <td>     6.927872</td>\n",
        "      <td>     0.004618</td>\n",
        "      <td>    29.971096</td>\n",
        "      <td>    63.103780</td>\n",
        "      <td>     6.927872</td>\n",
        "      <td>    40.728555</td>\n",
        "      <td>   -73.938693</td>\n",
        "    </tr>\n",
        "    <tr>\n",
        "      <th>std</th>\n",
        "      <td> 3.043607e+07</td>\n",
        "      <td> 2.028986e+07</td>\n",
        "      <td>  2952.385585</td>\n",
        "      <td>  2183.845409</td>\n",
        "      <td>     6.938928</td>\n",
        "      <td>     2.079231</td>\n",
        "      <td>     0.451688</td>\n",
        "      <td>     0.071650</td>\n",
        "      <td>     0.059713</td>\n",
        "      <td>     0.098631</td>\n",
        "      <td>...</td>\n",
        "      <td>     0.137942</td>\n",
        "      <td>     0.417417</td>\n",
        "      <td>     8.455597</td>\n",
        "      <td>     4.510178</td>\n",
        "      <td>     0.016344</td>\n",
        "      <td>     0.131158</td>\n",
        "      <td>     6.939011</td>\n",
        "      <td>     3.179832</td>\n",
        "      <td>     0.065420</td>\n",
        "      <td>     0.059582</td>\n",
        "    </tr>\n",
        "    <tr>\n",
        "      <th>min</th>\n",
        "      <td> 0.000000e+00</td>\n",
        "      <td> 0.000000e+00</td>\n",
        "      <td>     0.000000</td>\n",
        "      <td>     0.000000</td>\n",
        "      <td>     0.000000</td>\n",
        "      <td>     0.000000</td>\n",
        "      <td>     0.000000</td>\n",
        "      <td>    40.576152</td>\n",
        "      <td>   -74.073622</td>\n",
        "      <td>     0.000000</td>\n",
        "      <td>...</td>\n",
        "      <td>    29.550000</td>\n",
        "      <td>     0.000000</td>\n",
        "      <td>    46.900000</td>\n",
        "      <td>     0.000000</td>\n",
        "      <td>     0.000000</td>\n",
        "      <td>    29.590000</td>\n",
        "      <td>    49.400000</td>\n",
        "      <td>     0.000000</td>\n",
        "      <td>    40.600204</td>\n",
        "      <td>   -74.014870</td>\n",
        "    </tr>\n",
        "    <tr>\n",
        "      <th>25%</th>\n",
        "      <td> 1.039762e+07</td>\n",
        "      <td> 7.613712e+06</td>\n",
        "      <td>   274.000000</td>\n",
        "      <td>   237.000000</td>\n",
        "      <td>     4.000000</td>\n",
        "      <td>     1.000000</td>\n",
        "      <td>     0.000000</td>\n",
        "      <td>    40.677107</td>\n",
        "      <td>   -73.987342</td>\n",
        "      <td>     0.000000</td>\n",
        "      <td>...</td>\n",
        "      <td>    29.890000</td>\n",
        "      <td>     0.000000</td>\n",
        "      <td>    57.000000</td>\n",
        "      <td>     4.600000</td>\n",
        "      <td>     0.000000</td>\n",
        "      <td>    29.913333</td>\n",
        "      <td>    58.283333</td>\n",
        "      <td>     4.816667</td>\n",
        "      <td>    40.688591</td>\n",
        "      <td>   -73.985130</td>\n",
        "    </tr>\n",
        "    <tr>\n",
        "      <th>50%</th>\n",
        "      <td> 1.818389e+07</td>\n",
        "      <td> 1.331609e+07</td>\n",
        "      <td>   905.000000</td>\n",
        "      <td>   664.000000</td>\n",
        "      <td>    12.000000</td>\n",
        "      <td>     3.000000</td>\n",
        "      <td>     1.000000</td>\n",
        "      <td>    40.717241</td>\n",
        "      <td>   -73.953459</td>\n",
        "      <td>     0.000000</td>\n",
        "      <td>...</td>\n",
        "      <td>    29.960000</td>\n",
        "      <td>     0.000000</td>\n",
        "      <td>    61.000000</td>\n",
        "      <td>     6.900000</td>\n",
        "      <td>     0.000000</td>\n",
        "      <td>    29.958000</td>\n",
        "      <td>    60.950000</td>\n",
        "      <td>     6.166667</td>\n",
        "      <td>    40.720570</td>\n",
        "      <td>   -73.949150</td>\n",
        "    </tr>\n",
        "    <tr>\n",
        "      <th>75%</th>\n",
        "      <td> 3.263049e+07</td>\n",
        "      <td> 2.393771e+07</td>\n",
        "      <td>  2255.000000</td>\n",
        "      <td>  1537.000000</td>\n",
        "      <td>    16.000000</td>\n",
        "      <td>     5.000000</td>\n",
        "      <td>     1.000000</td>\n",
        "      <td>    40.759123</td>\n",
        "      <td>   -73.907733</td>\n",
        "      <td>     0.000000</td>\n",
        "      <td>...</td>\n",
        "      <td>    30.060000</td>\n",
        "      <td>     0.000000</td>\n",
        "      <td>    69.100000</td>\n",
        "      <td>     9.200000</td>\n",
        "      <td>     0.000000</td>\n",
        "      <td>    30.060000</td>\n",
        "      <td>    67.466667</td>\n",
        "      <td>     8.850000</td>\n",
        "      <td>    40.755226</td>\n",
        "      <td>   -73.912033</td>\n",
        "    </tr>\n",
        "    <tr>\n",
        "      <th>max</th>\n",
        "      <td> 2.357746e+08</td>\n",
        "      <td> 1.493782e+08</td>\n",
        "      <td> 32814.000000</td>\n",
        "      <td> 34828.000000</td>\n",
        "      <td>    20.000000</td>\n",
        "      <td>     6.000000</td>\n",
        "      <td>     1.000000</td>\n",
        "      <td>    40.889185</td>\n",
        "      <td>   -73.755383</td>\n",
        "      <td>     1.000000</td>\n",
        "      <td>...</td>\n",
        "      <td>    30.320000</td>\n",
        "      <td>     1.000000</td>\n",
        "      <td>    86.000000</td>\n",
        "      <td>    23.000000</td>\n",
        "      <td>     0.157500</td>\n",
        "      <td>    30.293333</td>\n",
        "      <td>    79.800000</td>\n",
        "      <td>    17.083333</td>\n",
        "      <td>    40.862064</td>\n",
        "      <td>   -73.694176</td>\n",
        "    </tr>\n",
        "  </tbody>\n",
        "</table>\n",
        "<p>8 rows \u00d7 21 columns</p>\n",
        "</div>"
       ],
       "metadata": {},
       "output_type": "pyout",
       "prompt_number": 4,
       "text": [
        "           ENTRIESn        EXITSn  ENTRIESn_hourly  EXITSn_hourly  \\\n",
        "count  4.264900e+04  4.264900e+04     42649.000000   42649.000000   \n",
        "mean   2.812486e+07  1.986993e+07      1886.589955    1361.487866   \n",
        "std    3.043607e+07  2.028986e+07      2952.385585    2183.845409   \n",
        "min    0.000000e+00  0.000000e+00         0.000000       0.000000   \n",
        "25%    1.039762e+07  7.613712e+06       274.000000     237.000000   \n",
        "50%    1.818389e+07  1.331609e+07       905.000000     664.000000   \n",
        "75%    3.263049e+07  2.393771e+07      2255.000000    1537.000000   \n",
        "max    2.357746e+08  1.493782e+08     32814.000000   34828.000000   \n",
        "\n",
        "               hour      day_week       weekday      latitude     longitude  \\\n",
        "count  42649.000000  42649.000000  42649.000000  42649.000000  42649.000000   \n",
        "mean      10.046754      2.905719      0.714436     40.724647    -73.940364   \n",
        "std        6.938928      2.079231      0.451688      0.071650      0.059713   \n",
        "min        0.000000      0.000000      0.000000     40.576152    -74.073622   \n",
        "25%        4.000000      1.000000      0.000000     40.677107    -73.987342   \n",
        "50%       12.000000      3.000000      1.000000     40.717241    -73.953459   \n",
        "75%       16.000000      5.000000      1.000000     40.759123    -73.907733   \n",
        "max       20.000000      6.000000      1.000000     40.889185    -73.755383   \n",
        "\n",
        "                fog      ...          pressurei          rain         tempi  \\\n",
        "count  42649.000000      ...       42649.000000  42649.000000  42649.000000   \n",
        "mean       0.009824      ...          29.971096      0.224741     63.103780   \n",
        "std        0.098631      ...           0.137942      0.417417      8.455597   \n",
        "min        0.000000      ...          29.550000      0.000000     46.900000   \n",
        "25%        0.000000      ...          29.890000      0.000000     57.000000   \n",
        "50%        0.000000      ...          29.960000      0.000000     61.000000   \n",
        "75%        0.000000      ...          30.060000      0.000000     69.100000   \n",
        "max        1.000000      ...          30.320000      1.000000     86.000000   \n",
        "\n",
        "              wspdi   meanprecipi  meanpressurei     meantempi     meanwspdi  \\\n",
        "count  42649.000000  42649.000000   42649.000000  42649.000000  42649.000000   \n",
        "mean       6.927872      0.004618      29.971096     63.103780      6.927872   \n",
        "std        4.510178      0.016344       0.131158      6.939011      3.179832   \n",
        "min        0.000000      0.000000      29.590000     49.400000      0.000000   \n",
        "25%        4.600000      0.000000      29.913333     58.283333      4.816667   \n",
        "50%        6.900000      0.000000      29.958000     60.950000      6.166667   \n",
        "75%        9.200000      0.000000      30.060000     67.466667      8.850000   \n",
        "max       23.000000      0.157500      30.293333     79.800000     17.083333   \n",
        "\n",
        "        weather_lat   weather_lon  \n",
        "count  42649.000000  42649.000000  \n",
        "mean      40.728555    -73.938693  \n",
        "std        0.065420      0.059582  \n",
        "min       40.600204    -74.014870  \n",
        "25%       40.688591    -73.985130  \n",
        "50%       40.720570    -73.949150  \n",
        "75%       40.755226    -73.912033  \n",
        "max       40.862064    -73.694176  \n",
        "\n",
        "[8 rows x 21 columns]"
       ]
      }
     ],
     "prompt_number": 4
    },
    {
     "cell_type": "markdown",
     "metadata": {},
     "source": [
      "\n",
      "* Extract and define more *granular* temporal variables"
     ]
    },
    {
     "cell_type": "code",
     "collapsed": false,
     "input": [
      "df['DateTime'] = df.apply(\n",
      "    lambda r: pd.datetime.strptime(r['datetime'], '%Y-%m-%d %H:%M:%S'), axis=1)\n",
      "df = df.set_index('DateTime', drop=False)\n",
      "df['station']=df['station'].astype(str)"
     ],
     "language": "python",
     "metadata": {},
     "outputs": [],
     "prompt_number": 5
    },
    {
     "cell_type": "code",
     "collapsed": false,
     "input": [
      "df['day']=df.index.day\n",
      "df['hour_week'] = df.day_week * 24. + df.hour\n",
      "df['week'] = df.index.week\n",
      "df_old=df"
     ],
     "language": "python",
     "metadata": {},
     "outputs": [],
     "prompt_number": 6
    },
    {
     "cell_type": "markdown",
     "metadata": {},
     "source": [
      "* Total number of days with recordings is"
     ]
    },
    {
     "cell_type": "code",
     "collapsed": false,
     "input": [
      "len(df['day'].unique())"
     ],
     "language": "python",
     "metadata": {},
     "outputs": [
      {
       "metadata": {},
       "output_type": "pyout",
       "prompt_number": 7,
       "text": [
        "31"
       ]
      }
     ],
     "prompt_number": 7
    },
    {
     "cell_type": "markdown",
     "metadata": {},
     "source": [
      "- Recording from"
     ]
    },
    {
     "cell_type": "code",
     "collapsed": false,
     "input": [
      "str(min(df['DateTime']).date())"
     ],
     "language": "python",
     "metadata": {},
     "outputs": [
      {
       "metadata": {},
       "output_type": "pyout",
       "prompt_number": 8,
       "text": [
        "'2011-05-01'"
       ]
      }
     ],
     "prompt_number": 8
    },
    {
     "cell_type": "markdown",
     "metadata": {},
     "source": [
      "upto "
     ]
    },
    {
     "cell_type": "code",
     "collapsed": false,
     "input": [
      "str(max(df['DateTime']).date())"
     ],
     "language": "python",
     "metadata": {},
     "outputs": [
      {
       "metadata": {},
       "output_type": "pyout",
       "prompt_number": 9,
       "text": [
        "'2011-05-31'"
       ]
      }
     ],
     "prompt_number": 9
    },
    {
     "cell_type": "markdown",
     "metadata": {},
     "source": [
      "\n",
      "\n",
      "So it is the full month of May.\n",
      "\n"
     ]
    },
    {
     "cell_type": "heading",
     "level": 6,
     "metadata": {},
     "source": [
      "Investigation on missing recordings"
     ]
    },
    {
     "cell_type": "markdown",
     "metadata": {},
     "source": [
      "Total number of turnstiles along with statistics on data recordings"
     ]
    },
    {
     "cell_type": "code",
     "collapsed": false,
     "input": [
      "UNIT_rec=df.groupby('UNIT').count()['ENTRIESn_hourly'] #Define number of recordings per turnstile\n",
      "UNIT_rec.describe()"
     ],
     "language": "python",
     "metadata": {},
     "outputs": [
      {
       "metadata": {},
       "output_type": "pyout",
       "prompt_number": 10,
       "text": [
        "count    240.000000\n",
        "mean     177.704167\n",
        "std        9.842270\n",
        "min       88.000000\n",
        "25%      172.000000\n",
        "50%      180.000000\n",
        "75%      185.000000\n",
        "max      186.000000\n",
        "dtype: float64"
       ]
      }
     ],
     "prompt_number": 10
    },
    {
     "cell_type": "markdown",
     "metadata": {},
     "source": [
      "Generate histogram"
     ]
    },
    {
     "cell_type": "code",
     "collapsed": false,
     "input": [
      "sns.distplot(UNIT_rec, kde=False)\n",
      "plt.title('Distribution of individual turnstile recordings', fontsize=15)\n",
      "plt.xlabel('Recordings', fontsize=14)\n",
      "plt.ylabel('Count', fontsize=14)\n",
      "plt.show()\n",
      "plt.close()"
     ],
     "language": "python",
     "metadata": {},
     "outputs": [
      {
       "metadata": {},
       "output_type": "display_data",
       "png": "[encoded data removed]",
       "text": [
        "<matplotlib.figure.Figure at 0x48306d8>"
       ]
      }
     ],
     "prompt_number": 11
    },
    {
     "cell_type": "markdown",
     "metadata": {},
     "source": [
      "We can see that there is a variance in the number of recordings by unit. Also:\n"
     ]
    },
    {
     "cell_type": "markdown",
     "metadata": {},
     "source": [
      "* Total number of stations is:"
     ]
    },
    {
     "cell_type": "code",
     "collapsed": false,
     "input": [
      "len(df['station'].drop_duplicates())"
     ],
     "language": "python",
     "metadata": {},
     "outputs": [
      {
       "metadata": {},
       "output_type": "pyout",
       "prompt_number": 12,
       "text": [
        "207"
       ]
      }
     ],
     "prompt_number": 12
    },
    {
     "cell_type": "markdown",
     "metadata": {},
     "source": [
      "* Total number of units is"
     ]
    },
    {
     "cell_type": "code",
     "collapsed": false,
     "input": [
      "len(df['UNIT'].drop_duplicates())"
     ],
     "language": "python",
     "metadata": {},
     "outputs": [
      {
       "metadata": {},
       "output_type": "pyout",
       "prompt_number": 13,
       "text": [
        "240"
       ]
      }
     ],
     "prompt_number": 13
    },
    {
     "cell_type": "markdown",
     "metadata": {},
     "source": [
      "This means that in some cases there are more than one units assigned to a station"
     ]
    },
    {
     "cell_type": "markdown",
     "metadata": {},
     "source": [
      "Stations with more than one units can be seen below"
     ]
    },
    {
     "cell_type": "code",
     "collapsed": false,
     "input": [
      "df.groupby('station')['UNIT'].unique()[df.groupby('station')['UNIT'].unique().apply(lambda x: len(x))>1]"
     ],
     "language": "python",
     "metadata": {},
     "outputs": [
      {
       "metadata": {},
       "output_type": "pyout",
       "prompt_number": 14,
       "text": [
        "station\n",
        "111 ST                   [R008, R310]\n",
        "125 ST                   [R034, R102]\n",
        "145 ST             [R101, R273, R344]\n",
        "167 ST                   [R104, R221]\n",
        "18 AVE                   [R242, R372]\n",
        "23 ST-6 AVE              [R203, R453]\n",
        "25 ST                    [R278, R455]\n",
        "34 ST-HERALD SQ          [R022, R023]\n",
        "34 ST-PENN STA     [R012, R013, R031]\n",
        "42 ST-TIMES SQ           [R032, R033]\n",
        "50 ST              [R116, R188, R234]\n",
        "86 ST              [R179, R186, R215]\n",
        "ATLANTIC AVE             [R057, R348]\n",
        "BOWLING GREEN            [R041, R042]\n",
        "CHAMBERS ST              [R030, R044]\n",
        "CHURCH AVE               [R098, R204]\n",
        "DEKALB AVE               [R099, R236]\n",
        "FORDHAM ROAD             [R112, R119]\n",
        "GRAND ST                 [R240, R250]\n",
        "HOYT ST                  [R225, R456]\n",
        "JAY ST-METROTEC          [R089, R127]\n",
        "LEXINGTON AVE      [R050, R051, R319]\n",
        "LEXINGTON-53 ST          [R016, R017]\n",
        "NOSTRAND AVE             [R061, R198]\n",
        "PROSPECT AVE             [R246, R454]\n",
        "RECTOR ST                [R227, R304]\n",
        "SPRING ST                [R282, R322]\n",
        "WALL ST                  [R027, R043]\n",
        "Name: UNIT, dtype: object"
       ]
      }
     ],
     "prompt_number": 14
    },
    {
     "cell_type": "markdown",
     "metadata": {},
     "source": [
      "Therefore it is more natural to group data by station rather than by unit."
     ]
    },
    {
     "cell_type": "heading",
     "level": 6,
     "metadata": {},
     "source": [
      "Make new dataframe aggregating remote unit data for single station"
     ]
    },
    {
     "cell_type": "code",
     "collapsed": false,
     "input": [
      "nc1=pd.pivot_table(df_old, values=['ENTRIESn','EXITSn','ENTRIESn_hourly','EXITSn_hourly'],index=['station','DateTime'], aggfunc=np.sum, margins=True)\n",
      "nc2=pd.pivot_table(df_old, values=['latitude','longitude','hour','day_week','weekday','fog','precipi','pressurei','rain','tempi','wspdi','meanprecipi','meanpressurei','meantempi','meanwspdi','weather_lat','weather_lon','day','hour_week','week'], index=['station', 'DateTime'],aggfunc=np.mean, margins=True)\n",
      "del df\n",
      "df=nc1.join(nc2)\n",
      "#round values for integer variables\n",
      "def intround(col1):\n",
      "    df[col1]=df[col1].apply(lambda x: int(round(x)))\n",
      "intround('rain')\n",
      "intround('hour')\n",
      "intround('day_week')\n",
      "intround('weekday')\n",
      "intround('fog')\n",
      "intround('day')\n",
      "intround('hour_week')\n",
      "intround('week')\n",
      "#also add station as column\n",
      "df['station']=df.index.get_level_values('station').tolist()\n",
      "df['station']=df['station'].astype(str)\n",
      "#save entry with all stations\n",
      "all_stations=df[df['station']=='All']\n",
      "# Drop entry with all stations\n",
      "df=df.ix[:-1]\n",
      "df['WCI']=35.74+0.6215*df['tempi']-35.75*(df['wspdi']**0.16)+0.4275*(df['tempi']**0.16)\n",
      "df['weekend']=df['day_week'].apply(lambda x: 0 if x in range(0,4) else 1)"
     ],
     "language": "python",
     "metadata": {},
     "outputs": [],
     "prompt_number": 15
    },
    {
     "cell_type": "markdown",
     "metadata": {},
     "source": [
      "Count missing values in dataframe."
     ]
    },
    {
     "cell_type": "code",
     "collapsed": false,
     "input": [
      "df.drop('station', 1)[np.isnan(df.drop('station', 1))].count()"
     ],
     "language": "python",
     "metadata": {},
     "outputs": [
      {
       "metadata": {},
       "output_type": "pyout",
       "prompt_number": 16,
       "text": [
        "ENTRIESn           0\n",
        "ENTRIESn_hourly    0\n",
        "EXITSn             0\n",
        "EXITSn_hourly      0\n",
        "day                0\n",
        "day_week           0\n",
        "fog                0\n",
        "hour               0\n",
        "hour_week          0\n",
        "latitude           0\n",
        "longitude          0\n",
        "meanprecipi        0\n",
        "meanpressurei      0\n",
        "meantempi          0\n",
        "meanwspdi          0\n",
        "precipi            0\n",
        "pressurei          0\n",
        "rain               0\n",
        "tempi              0\n",
        "weather_lat        0\n",
        "weather_lon        0\n",
        "week               0\n",
        "weekday            0\n",
        "wspdi              0\n",
        "WCI                0\n",
        "weekend            0\n",
        "dtype: int64"
       ]
      }
     ],
     "prompt_number": 16
    },
    {
     "cell_type": "markdown",
     "metadata": {},
     "source": [
      "No missing values"
     ]
    },
    {
     "cell_type": "heading",
     "level": 6,
     "metadata": {},
     "source": [
      "Plot location of stations on map"
     ]
    },
    {
     "cell_type": "code",
     "collapsed": false,
     "input": [
      "m = Basemap(projection='mill',llcrnrlat=40.5,urcrnrlat=40.9,\\\n",
      "            llcrnrlon=-74.1,urcrnrlon=-73.7,resolution='h')"
     ],
     "language": "python",
     "metadata": {},
     "outputs": [],
     "prompt_number": 17
    },
    {
     "cell_type": "code",
     "collapsed": false,
     "input": [
      "m.drawcoastlines()\n",
      "lons=df.groupby('station')['longitude'].mean().tolist()\n",
      "lats=df.groupby('station')['latitude'].mean().tolist()\n",
      "x,y = m(lons,lats)\n",
      "sizes=20\n",
      "mapplot=plt.scatter(x,y, s=sizes, color=\"blue\", alpha=1)"
     ],
     "language": "python",
     "metadata": {},
     "outputs": [
      {
       "metadata": {},
       "output_type": "display_data",
       "png": "[encoded data removed]",
       "text": [
        "<matplotlib.figure.Figure at 0x19a123c8>"
       ]
      }
     ],
     "prompt_number": 18
    },
    {
     "cell_type": "heading",
     "level": 6,
     "metadata": {},
     "source": [
      "Measurements per station"
     ]
    },
    {
     "cell_type": "markdown",
     "metadata": {},
     "source": [
      "Previously we saw that the number of measurements per unit is variable. "
     ]
    },
    {
     "cell_type": "markdown",
     "metadata": {},
     "source": [
      "Percentage of recordings"
     ]
    },
    {
     "cell_type": "code",
     "collapsed": false,
     "input": [
      "N_records_station=df.groupby('station')['ENTRIESn'].count()\n",
      "max_rec_station=len(df['day'].unique())*6\n",
      "PRC_records_station=N_records_station/max_rec_station"
     ],
     "language": "python",
     "metadata": {},
     "outputs": [],
     "prompt_number": 19
    },
    {
     "cell_type": "code",
     "collapsed": false,
     "input": [
      "plt.hist(PRC_records_station)"
     ],
     "language": "python",
     "metadata": {},
     "outputs": [
      {
       "metadata": {},
       "output_type": "pyout",
       "prompt_number": 20,
       "text": [
        "(array([   1.,    0.,    0.,    0.,    0.,    1.,    1.,   14.,   60.,  130.]),\n",
        " array([ 0.47311828,  0.52580645,  0.57849462,  0.6311828 ,  0.68387097,\n",
        "         0.73655914,  0.78924731,  0.84193548,  0.89462366,  0.94731183,  1.        ]),\n",
        " <a list of 10 Patch objects>)"
       ]
      },
      {
       "metadata": {},
       "output_type": "display_data",
       "png": "[encoded data removed]",
       "text": [
        "<matplotlib.figure.Figure at 0x19a04eb8>"
       ]
      }
     ],
     "prompt_number": 20
    },
    {
     "cell_type": "markdown",
     "metadata": {},
     "source": [
      "For most stations, data is above 90% complete in regards to the maximum possible measurements. For some data is not being recorded as frequently."
     ]
    },
    {
     "cell_type": "markdown",
     "metadata": {},
     "source": [
      "Use function (found on internet) that computes distance between points on earth, assuming sphericity"
     ]
    },
    {
     "cell_type": "code",
     "collapsed": false,
     "input": [
      "import math\n",
      "def distance_on_unit_sphere(lat1, long1, lat2, long2):\n",
      " \n",
      "    # Convert latitude and longitude to \n",
      "    # spherical coordinates in radians.\n",
      "    degrees_to_radians = math.pi/180.0\n",
      "         \n",
      "    # phi = 90 - latitude\n",
      "    phi1 = (90.0 - lat1)*degrees_to_radians\n",
      "    phi2 = (90.0 - lat2)*degrees_to_radians\n",
      "         \n",
      "    # theta = longitude\n",
      "    theta1 = long1*degrees_to_radians\n",
      "    theta2 = long2*degrees_to_radians\n",
      "         \n",
      "    # Compute spherical distance from spherical coordinates.\n",
      "         \n",
      "    # For two locations in spherical coordinates \n",
      "    # (1, theta, phi) and (1, theta, phi)\n",
      "    # cosine( arc length ) = \n",
      "    #    sin phi sin phi' cos(theta-theta') + cos phi cos phi'\n",
      "    # distance = rho * arc length\n",
      "     \n",
      "    cos = (math.sin(phi1)*math.sin(phi2)*math.cos(theta1 - theta2) + \n",
      "           math.cos(phi1)*math.cos(phi2))\n",
      "    arc = math.acos( cos )\n",
      "    length= arc*3963.1676\n",
      " \n",
      "    # Remember to multiply arc by the radius of the earth \n",
      "    # in your favorite set of units to get length.\n",
      "    return length"
     ],
     "language": "python",
     "metadata": {},
     "outputs": [],
     "prompt_number": 21
    },
    {
     "cell_type": "markdown",
     "metadata": {},
     "source": [
      "We define the central point of NYC as the 42 street main station. Let's see if we have this station in the data so we can extract its position."
     ]
    },
    {
     "cell_type": "code",
     "collapsed": false,
     "input": [
      "df[df.station.astype(str).str.contains('42')].station.unique()"
     ],
     "language": "python",
     "metadata": {},
     "outputs": [
      {
       "metadata": {},
       "output_type": "pyout",
       "prompt_number": 22,
       "text": [
        "array(['242 ST', '42 ST-BRYANT PK', '42 ST-GRD CNTRL', '42 ST-PA BUS TE',\n",
        "       '42 ST-TIMES SQ'], dtype=object)"
       ]
      }
     ],
     "prompt_number": 22
    },
    {
     "cell_type": "markdown",
     "metadata": {},
     "source": [
      "So it is 42 ST-GRD CNTRL. Its longitude and latitude are:"
     ]
    },
    {
     "cell_type": "code",
     "collapsed": false,
     "input": [
      "lon_CNTR, lat_CNTR=df[df.station.astype(str).str.contains('42 ST-GRD CNTRL')].longitude.unique(),df[df.station.astype(str).str.contains('42 ST-GRD CNTRL')].latitude.unique()\n",
      "lon_CNTR, lat_CNTR"
     ],
     "language": "python",
     "metadata": {},
     "outputs": [
      {
       "metadata": {},
       "output_type": "pyout",
       "prompt_number": 23,
       "text": [
        "(array([-73.976945]), array([ 40.751849]))"
       ]
      }
     ],
     "prompt_number": 23
    },
    {
     "cell_type": "markdown",
     "metadata": {},
     "source": [
      "Examine the hypothesis that recording percentage is correlated with distance from centre"
     ]
    },
    {
     "cell_type": "code",
     "collapsed": false,
     "input": [
      "dist_CNTR=[0]*36833\n",
      "for i in range(0, len(df)):\n",
      "    dist_CNTR[i]=distance_on_unit_sphere(df['longitude'].iloc[i],df['latitude'].iloc[i],lon_CNTR,lat_CNTR)\n",
      "df['dist_CNTR']=dist_CNTR"
     ],
     "language": "python",
     "metadata": {},
     "outputs": [],
     "prompt_number": 24
    },
    {
     "cell_type": "code",
     "collapsed": false,
     "input": [
      "plt.scatter((df.groupby('station')['dist_CNTR'].mean()), (PRC_records_station))"
     ],
     "language": "python",
     "metadata": {},
     "outputs": [
      {
       "metadata": {},
       "output_type": "pyout",
       "prompt_number": 25,
       "text": [
        "<matplotlib.collections.PathCollection at 0x1ee27358>"
       ]
      },
      {
       "metadata": {},
       "output_type": "display_data",
       "png": "[encoded data removed]",
       "text": [
        "<matplotlib.figure.Figure at 0x19ca5828>"
       ]
      }
     ],
     "prompt_number": 25
    },
    {
     "cell_type": "markdown",
     "metadata": {},
     "source": [
      "Two outlier stations can be seen but overall the hypothesis does not appear to stand."
     ]
    },
    {
     "cell_type": "heading",
     "level": 3,
     "metadata": {},
     "source": [
      "Weather variables"
     ]
    },
    {
     "cell_type": "code",
     "collapsed": false,
     "input": [
      "m.drawcoastlines()\n",
      "#m.drawstates()\n",
      "#m.fillcontinents(color='#04BAE3', lake_color='#FFFFFF')\n",
      "#m.shadedrelief()\n",
      "#m.drawlsmask(land_color='coral',ocean_color='aqua',lakes=True)\n",
      "lons=df.groupby('station')['longitude'].mean().tolist()\n",
      "lats=df.groupby('station')['latitude'].mean().tolist()\n",
      "lons_ws1=df.groupby('weather_lon')['weather_lon'].unique().tolist()\n",
      "lats_ws1=df.groupby('weather_lat')['weather_lat'].unique().tolist()\n",
      "x,y=m(lons,lats)\n",
      "x1,y1=m(lons_ws1,lats_ws1)\n",
      "mapplot=plt.scatter(x,y, s=15, color=\"blue\")\n",
      "mapplot2=plt.scatter(x1,y1, s=20, color=\"red\")"
     ],
     "language": "python",
     "metadata": {},
     "outputs": [
      {
       "metadata": {},
       "output_type": "display_data",
       "png": "[encoded data removed]",
       "text": [
        "<matplotlib.figure.Figure at 0x1ee27eb8>"
       ]
      }
     ],
     "prompt_number": 26
    },
    {
     "cell_type": "markdown",
     "metadata": {},
     "source": [
      "Get distance of each subway station from weather station "
     ]
    },
    {
     "cell_type": "code",
     "collapsed": false,
     "input": [
      "dist=[0]*36833\n",
      "for i in range(0, len(df)):\n",
      "    dist[i]=distance_on_unit_sphere(df['longitude'].iloc[i],df['latitude'].iloc[i],df['weather_lon'].iloc[i],df['weather_lat'].iloc[i])\n",
      "df['dist_ws']=dist"
     ],
     "language": "python",
     "metadata": {},
     "outputs": [],
     "prompt_number": 27
    },
    {
     "cell_type": "markdown",
     "metadata": {},
     "source": [
      "View histogram of distances"
     ]
    },
    {
     "cell_type": "code",
     "collapsed": false,
     "input": [
      "plt.hist(df['dist_ws'].unique())"
     ],
     "language": "python",
     "metadata": {},
     "outputs": [
      {
       "metadata": {},
       "output_type": "pyout",
       "prompt_number": 28,
       "text": [
        "(array([ 117.,   59.,   33.,   16.,    5.,    4.,    1.,    1.,    3.,    4.]),\n",
        " array([ 0.04274057,  0.56181764,  1.08089471,  1.59997178,  2.11904885,\n",
        "         2.63812592,  3.157203  ,  3.67628007,  4.19535714,  4.71443421,\n",
        "         5.23351128]),\n",
        " <a list of 10 Patch objects>)"
       ]
      },
      {
       "metadata": {},
       "output_type": "display_data",
       "png": "[encoded data removed]",
       "text": [
        "<matplotlib.figure.Figure at 0x17dcbf28>"
       ]
      }
     ],
     "prompt_number": 28
    },
    {
     "cell_type": "markdown",
     "metadata": {},
     "source": [
      "Looking for stations too far from weather station; likely to give inaccurate weather readings.Displaying list for distance > 2 miles"
     ]
    },
    {
     "cell_type": "code",
     "collapsed": false,
     "input": [
      "df['station'][df['dist_ws']>=2].unique()"
     ],
     "language": "python",
     "metadata": {},
     "outputs": [
      {
       "metadata": {},
       "output_type": "pyout",
       "prompt_number": 29,
       "text": [
        "array(['18 AVE', '20 AVE', '46 ST-BLISS ST', '55 ST', '71 ST', '77 ST',\n",
        "       '79 ST', 'BAY RIDGE AVE', 'BAY RIDGE-95 ST', 'BEACH 25 ST',\n",
        "       'BEACH 36 ST', 'BEACH 44 ST', 'BEACH 60 ST', 'BEACH 67 ST',\n",
        "       'FAR ROCKAWAY', 'JUNIUS ST', 'ST. GEORGE', 'SUTPHIN BLVD'], dtype=object)"
       ]
      }
     ],
     "prompt_number": 29
    },
    {
     "cell_type": "markdown",
     "metadata": {},
     "source": [
      "We might consider dropping this data when investigating weather effects on ridership"
     ]
    },
    {
     "cell_type": "markdown",
     "metadata": {},
     "source": [
      "There exist indications that weather variables are not always reliable. For example precipitation by definition cannot be zero when it is raining, but... "
     ]
    },
    {
     "cell_type": "code",
     "collapsed": false,
     "input": [
      "sum(df[df['precipi']==0]['rain']!=0)"
     ],
     "language": "python",
     "metadata": {},
     "outputs": [
      {
       "metadata": {},
       "output_type": "pyout",
       "prompt_number": 30,
       "text": [
        "5926"
       ]
      }
     ],
     "prompt_number": 30
    },
    {
     "cell_type": "markdown",
     "metadata": {},
     "source": [
      "One method of dealing with this ambiguity is substituting the problematic zero-valued precipitation entries on rainy days with the average - i.e. imputation:"
     ]
    },
    {
     "cell_type": "code",
     "collapsed": false,
     "input": [
      "df['precipi'].ix[((df.rain==1) & (df['precipi']==0))]=df['precipi'][((df['precipi']!=0)) & (df['rain']==1)].mean()"
     ],
     "language": "python",
     "metadata": {},
     "outputs": [],
     "prompt_number": 31
    },
    {
     "cell_type": "heading",
     "level": 3,
     "metadata": {},
     "source": [
      "Investigate effect of rain on ridership"
     ]
    },
    {
     "cell_type": "markdown",
     "metadata": {},
     "source": [
      "Visualise subway ridership and rain incidence in NYC"
     ]
    },
    {
     "cell_type": "code",
     "collapsed": false,
     "input": [
      "m.drawcoastlines()\n",
      "#m.drawstates()\n",
      "#m.fillcontinents(color='#04BAE3', lake_color='#FFFFFF')\n",
      "#m.shadedrelief()\n",
      "#m.drawlsmask(land_color='coral',ocean_color='aqua',lakes=True)\n",
      "lons=df.groupby('station')['longitude'].mean().tolist()\n",
      "lats=df.groupby('station')['latitude'].mean().tolist()\n",
      "#lons_ws=df.groupby('station')['weather_lon'].mean().tolist()\n",
      "#lats_ws=df.groupby('station')['weather_lat'].mean().tolist()\n",
      "stat_entries=df.groupby('station')['ENTRIESn'].sum().tolist()\n",
      "#Simple function that assigns variable for coloring\n",
      "def colmean(col1):\n",
      "    return df.groupby('station')[col1].mean().tolist()\n",
      "x,y=m(lons,lats)\n",
      "min_mark=200\n",
      "max_stat_entries=max(stat_entries)\n",
      "sizes=min_mark*(stat_entries/max_stat_entries)\n",
      "colors=map(lambda x: x*100, colmean('rain'))\n",
      "mapplot=plt.scatter(x,y, s=sizes, c=colors, cmap=\"Blues\")\n",
      "plt.colorbar(mapplot, label='Generic')"
     ],
     "language": "python",
     "metadata": {},
     "outputs": [
      {
       "metadata": {},
       "output_type": "pyout",
       "prompt_number": 32,
       "text": [
        "<matplotlib.colorbar.Colorbar instance at 0x000000001ED28DC8>"
       ]
      },
      {
       "metadata": {},
       "output_type": "display_data",
       "png": "[encoded data removed]",
       "text": [
        "<matplotlib.figure.Figure at 0x1a145978>"
       ]
      }
     ],
     "prompt_number": 32
    },
    {
     "cell_type": "code",
     "collapsed": false,
     "input": [
      "bins1=bins1=np.linspace(0,10000, 5).tolist()\n",
      "plt.hist([df[df['rain']==0].ENTRIESn_hourly, df[df['rain']==1].ENTRIESn_hourly],normed=False, color=[\"blue\",\"green\"])\n",
      "plt.xlabel('Hourly Entries')\n",
      "plt.ylabel('Frequencies')\n",
      "plt.title('Histogram of hourly entries',fontsize=14)\n",
      "blue_patch = mpatches.Patch(color='blue', label='No rain')\n",
      "green_patch = mpatches.Patch(color='green', label='Rain')\n",
      "plt.legend(handles=[blue_patch, green_patch])"
     ],
     "language": "python",
     "metadata": {},
     "outputs": [
      {
       "metadata": {},
       "output_type": "pyout",
       "prompt_number": 33,
       "text": [
        "<matplotlib.legend.Legend at 0x1eda0828>"
       ]
      },
      {
       "metadata": {},
       "output_type": "display_data",
       "png": "[encoded data removed]",
       "text": [
        "<matplotlib.figure.Figure at 0x19ca56a0>"
       ]
      }
     ],
     "prompt_number": 33
    },
    {
     "cell_type": "code",
     "collapsed": false,
     "input": [
      "bins1=bins1=np.linspace(0,10000, 5).tolist()\n",
      "plt.hist([df[df['rain']==0].ENTRIESn_hourly, df[df['rain']==1].ENTRIESn_hourly],normed=True, color=[\"blue\",\"green\"])\n",
      "plt.xlabel('Hourly Entries')\n",
      "plt.ylabel('Frequencies')\n",
      "plt.title('Normalised Histogram of hourly entries',fontsize=14)\n",
      "blue_patch = mpatches.Patch(color='blue', label='No rain')\n",
      "green_patch = mpatches.Patch(color='green', label='Rain')\n",
      "plt.legend(handles=[blue_patch, green_patch])"
     ],
     "language": "python",
     "metadata": {},
     "outputs": [
      {
       "metadata": {},
       "output_type": "pyout",
       "prompt_number": 34,
       "text": [
        "<matplotlib.legend.Legend at 0x1baa93c8>"
       ]
      },
      {
       "metadata": {},
       "output_type": "display_data",
       "png": "[encoded data removed]",
       "text": [
        "<matplotlib.figure.Figure at 0x17dcb518>"
       ]
      }
     ],
     "prompt_number": 34
    },
    {
     "cell_type": "markdown",
     "metadata": {},
     "source": [
      "The normalised histogram suggests that distributions are similar."
     ]
    },
    {
     "cell_type": "code",
     "collapsed": false,
     "input": [
      "#sns.distplot(df[df['rain']==0].ENTRIESn_hourly, hist=False,kde_kws={\"color\": \"green\", \"lw\": 3, \"label\": \"rain\"})\n",
      "#sns.distplot(df[df['rain']==1].ENTRIESn_hourly, hist=False,kde_kws={\"color\": \"blue\", \"lw\": 3, \"label\": \"norain\"})\n",
      "sns.kdeplot(df[df['rain']==0].ENTRIESn_hourly, color=\"green\", shade=True)\n",
      "sns.kdeplot(df[df['rain']==1].ENTRIESn_hourly, color=\"blue\", shade=True)\n",
      "plt.xlim(-1000, 6000)\n",
      "plt.xlabel('Hourly entries')\n",
      "plt.ylabel('Density')\n",
      "plt.title('KDE of hourly entries',fontsize=14)"
     ],
     "language": "python",
     "metadata": {},
     "outputs": [
      {
       "metadata": {},
       "output_type": "pyout",
       "prompt_number": 35,
       "text": [
        "<matplotlib.text.Text at 0x1bd10160>"
       ]
      },
      {
       "metadata": {},
       "output_type": "display_data",
       "png": "[encoded data removed]",
       "text": [
        "<matplotlib.figure.Figure at 0x19e8e630>"
       ]
      }
     ],
     "prompt_number": 35
    },
    {
     "cell_type": "markdown",
     "metadata": {},
     "source": [
      "Define a function that returns only the first part of the statsmodels summary result"
     ]
    },
    {
     "cell_type": "code",
     "collapsed": false,
     "input": [
      "def short_summary(est):\n",
      "    return HTML(est.summary().tables[0].as_html())\n",
      "dummy_units = pd.get_dummies(df['station'], prefix='station')"
     ],
     "language": "python",
     "metadata": {},
     "outputs": [],
     "prompt_number": 36
    },
    {
     "cell_type": "code",
     "collapsed": false,
     "input": [
      "# C() operator used when treating ordinal as categorical\n",
      "#est1=smf.ols(formula='ENTRIESn_hourly ~ WCI*station*rain', data=df).fit()\n",
      "#short_summary(est1)"
     ],
     "language": "python",
     "metadata": {},
     "outputs": [],
     "prompt_number": 37
    },
    {
     "cell_type": "code",
     "collapsed": false,
     "input": [
      "env = EvalEnvironment.capture()\n",
      "desc = ModelDesc.from_formula('ENTRIESn_hourly ~ C(hour)*station+weekend', env)\n",
      "desc.describe()"
     ],
     "language": "python",
     "metadata": {},
     "outputs": [
      {
       "metadata": {},
       "output_type": "pyout",
       "prompt_number": 40,
       "text": [
        "'ENTRIESn_hourly ~ C(hour) + station + C(hour):station + weekend'"
       ]
      }
     ],
     "prompt_number": 40
    },
    {
     "cell_type": "code",
     "collapsed": false,
     "input": [
      "est=smf.ols(formula='ENTRIESn_hourly ~ C(hour)*station+weekend', data=df).fit()\n",
      "short_summary(est)"
     ],
     "language": "python",
     "metadata": {},
     "outputs": [
      {
       "html": [
        "<table class=\"simpletable\">\n",
        "<caption>OLS Regression Results</caption>\n",
        "<tr>\n",
        "  <th>Dep. Variable:</th>     <td>ENTRIESn_hourly</td> <th>  R-squared:         </th>  <td>   0.822</td>  \n",
        "</tr>\n",
        "<tr>\n",
        "  <th>Model:</th>                   <td>OLS</td>       <th>  Adj. R-squared:    </th>  <td>   0.816</td>  \n",
        "</tr>\n",
        "<tr>\n",
        "  <th>Method:</th>             <td>Least Squares</td>  <th>  F-statistic:       </th>  <td>   132.5</td>  \n",
        "</tr>\n",
        "<tr>\n",
        "  <th>Date:</th>             <td>Sun, 01 Mar 2015</td> <th>  Prob (F-statistic):</th>   <td>  0.00</td>   \n",
        "</tr>\n",
        "<tr>\n",
        "  <th>Time:</th>                 <td>14:56:45</td>     <th>  Log-Likelihood:    </th> <td>-3.2415e+05</td>\n",
        "</tr>\n",
        "<tr>\n",
        "  <th>No. Observations:</th>      <td> 36833</td>      <th>  AIC:               </th>  <td>6.508e+05</td> \n",
        "</tr>\n",
        "<tr>\n",
        "  <th>Df Residuals:</th>          <td> 35590</td>      <th>  BIC:               </th>  <td>6.614e+05</td> \n",
        "</tr>\n",
        "<tr>\n",
        "  <th>Df Model:</th>              <td>  1242</td>      <th>                     </th>      <td> </td>     \n",
        "</tr>\n",
        "</table>"
       ],
       "metadata": {},
       "output_type": "pyout",
       "prompt_number": 38,
       "text": [
        "<IPython.core.display.HTML at 0x1f5e5860>"
       ]
      }
     ],
     "prompt_number": 38
    },
    {
     "cell_type": "code",
     "collapsed": false,
     "input": [
      "c = scipy.stats.probplot(df.ENTRIESn_hourly - est.fittedvalues)\n",
      "plt.figure(figsize=[12,12])\n",
      "ax1 = plt.subplot(221)\n",
      "plt.plot(c[0][0],c[1][1] + c[0][0]*c[1][0], 'b-', alpha=0.5)\n",
      "plt.plot(c[0][0], c[0][1], 'o', mfc='w', mec='b', mew=1, alpha=0.4)\n",
      "ax1.set_xlabel('Quantiles', fontsize=14)\n",
      "ax1.set_ylabel('Ordered Residuals', fontsize=14)\n",
      "ax1.set_title('Normal Prob. Plot of Residuals', fontsize=14)\n",
      "ax2 = plt.subplot(222)\n",
      "d = plt.hist(df.ENTRIESn_hourly - est.fittedvalues, bins=50)\n",
      "ax2.set_xlabel('Residuals', fontsize=14)\n",
      "ax2.set_ylabel('Counts', fontsize=14)\n",
      "ax2.set_title('Residual distribution', fontsize=14)\n",
      "ax3 = plt.subplot(223)\n",
      "plt.plot(est.fittedvalues, np.abs(df.ENTRIESn_hourly-est.fittedvalues), 'b.', ms=1)\n",
      "ax3.set_xlabel('Predicted Ridership', fontsize=14)\n",
      "ax3.set_ylabel('Residuals (absolute values)', fontsize=14)\n",
      "ax3.set_title('Residuals abs. values vs predicted values', fontsize=14)\n",
      "ax4 = plt.subplot(224)\n",
      "plt.plot(df.ENTRIESn_hourly-est.fittedvalues, 'b.', ms=1)\n",
      "ax4.set_xlabel('Dataset row number', fontsize=14)\n",
      "ax4.set_ylabel('Residuals', fontsize=14)\n",
      "ax4.set_title('Residuals', fontsize=14)\n",
      "plt.suptitle('Residuals Analysis', fontsize=16)"
     ],
     "language": "python",
     "metadata": {},
     "outputs": [
      {
       "metadata": {},
       "output_type": "pyout",
       "prompt_number": 39,
       "text": [
        "<matplotlib.text.Text at 0x3aaa7208>"
       ]
      },
      {
       "metadata": {},
       "output_type": "display_data",
       "png": "[encoded data removed]",
       "text": [
        "<matplotlib.figure.Figure at 0x3ae12470>"
       ]
      }
     ],
     "prompt_number": 39
    },
    {
     "cell_type": "markdown",
     "metadata": {},
     "source": [
      "Subset data: select only the station which has the highest total value for Entries"
     ]
    },
    {
     "cell_type": "code",
     "collapsed": false,
     "input": [
      "df_34STPS=df.ix[df.groupby('station')['ENTRIESn'].max().idxmax()]"
     ],
     "language": "python",
     "metadata": {},
     "outputs": [],
     "prompt_number": 41
    },
    {
     "cell_type": "code",
     "collapsed": false,
     "input": [
      "df_34STPS.groupby('rain').describe()"
     ],
     "language": "python",
     "metadata": {},
     "outputs": [
      {
       "html": [
        "<div style=\"max-height:1000px;max-width:1500px;overflow:auto;\">\n",
        "<table border=\"1\" class=\"dataframe\">\n",
        "  <thead>\n",
        "    <tr style=\"text-align: right;\">\n",
        "      <th></th>\n",
        "      <th></th>\n",
        "      <th>ENTRIESn</th>\n",
        "      <th>ENTRIESn_hourly</th>\n",
        "      <th>EXITSn</th>\n",
        "      <th>EXITSn_hourly</th>\n",
        "      <th>WCI</th>\n",
        "      <th>day</th>\n",
        "      <th>day_week</th>\n",
        "      <th>dist_CNTR</th>\n",
        "      <th>dist_ws</th>\n",
        "      <th>fog</th>\n",
        "      <th>...</th>\n",
        "      <th>meanwspdi</th>\n",
        "      <th>precipi</th>\n",
        "      <th>pressurei</th>\n",
        "      <th>tempi</th>\n",
        "      <th>weather_lat</th>\n",
        "      <th>weather_lon</th>\n",
        "      <th>week</th>\n",
        "      <th>weekday</th>\n",
        "      <th>weekend</th>\n",
        "      <th>wspdi</th>\n",
        "    </tr>\n",
        "    <tr>\n",
        "      <th>rain</th>\n",
        "      <th></th>\n",
        "      <th></th>\n",
        "      <th></th>\n",
        "      <th></th>\n",
        "      <th></th>\n",
        "      <th></th>\n",
        "      <th></th>\n",
        "      <th></th>\n",
        "      <th></th>\n",
        "      <th></th>\n",
        "      <th></th>\n",
        "      <th></th>\n",
        "      <th></th>\n",
        "      <th></th>\n",
        "      <th></th>\n",
        "      <th></th>\n",
        "      <th></th>\n",
        "      <th></th>\n",
        "      <th></th>\n",
        "      <th></th>\n",
        "      <th></th>\n",
        "      <th></th>\n",
        "    </tr>\n",
        "  </thead>\n",
        "  <tbody>\n",
        "    <tr>\n",
        "      <th rowspan=\"8\" valign=\"top\">0</th>\n",
        "      <th>count</th>\n",
        "      <td> 1.440000e+02</td>\n",
        "      <td>   144.000000</td>\n",
        "      <td> 1.440000e+02</td>\n",
        "      <td>   144.000000</td>\n",
        "      <td> 144.000000</td>\n",
        "      <td> 144.000000</td>\n",
        "      <td> 144.000000</td>\n",
        "      <td> 1.440000e+02</td>\n",
        "      <td> 1.440000e+02</td>\n",
        "      <td> 144.000000</td>\n",
        "      <td>...</td>\n",
        "      <td> 144.000000</td>\n",
        "      <td> 144.000000</td>\n",
        "      <td> 144.000000</td>\n",
        "      <td> 144.000000</td>\n",
        "      <td> 144.000000</td>\n",
        "      <td> 144.000000</td>\n",
        "      <td> 144.000000</td>\n",
        "      <td> 144.000000</td>\n",
        "      <td> 144.000000</td>\n",
        "      <td> 144.000000</td>\n",
        "    </tr>\n",
        "    <tr>\n",
        "      <th>mean</th>\n",
        "      <td> 2.803489e+08</td>\n",
        "      <td> 15027.416667</td>\n",
        "      <td> 1.954442e+08</td>\n",
        "      <td> 12519.861111</td>\n",
        "      <td>  36.768546</td>\n",
        "      <td>  16.125000</td>\n",
        "      <td>   3.041667</td>\n",
        "      <td> 1.087667e+00</td>\n",
        "      <td> 1.561150e-01</td>\n",
        "      <td>   0.000000</td>\n",
        "      <td>...</td>\n",
        "      <td>   5.277778</td>\n",
        "      <td>   0.000000</td>\n",
        "      <td>  29.998264</td>\n",
        "      <td>  64.652083</td>\n",
        "      <td>  40.743515</td>\n",
        "      <td> -73.993007</td>\n",
        "      <td>  19.583333</td>\n",
        "      <td>   0.666667</td>\n",
        "      <td>   0.458333</td>\n",
        "      <td>   5.277778</td>\n",
        "    </tr>\n",
        "    <tr>\n",
        "      <th>std</th>\n",
        "      <td> 2.997932e+07</td>\n",
        "      <td> 11142.103948</td>\n",
        "      <td> 2.308281e+07</td>\n",
        "      <td> 10779.394741</td>\n",
        "      <td>  17.673077</td>\n",
        "      <td>   9.833491</td>\n",
        "      <td>   2.138148</td>\n",
        "      <td> 1.993756e-08</td>\n",
        "      <td> 2.492195e-09</td>\n",
        "      <td>   0.000000</td>\n",
        "      <td>...</td>\n",
        "      <td>   1.430721</td>\n",
        "      <td>   0.000000</td>\n",
        "      <td>   0.126349</td>\n",
        "      <td>   8.978957</td>\n",
        "      <td>   0.000001</td>\n",
        "      <td>   0.000001</td>\n",
        "      <td>   1.445998</td>\n",
        "      <td>   0.473050</td>\n",
        "      <td>   0.500000</td>\n",
        "      <td>   3.078835</td>\n",
        "    </tr>\n",
        "    <tr>\n",
        "      <th>min</th>\n",
        "      <td> 1.543819e+08</td>\n",
        "      <td>   864.000000</td>\n",
        "      <td> 1.010966e+08</td>\n",
        "      <td>   512.000000</td>\n",
        "      <td>  18.901155</td>\n",
        "      <td>   1.000000</td>\n",
        "      <td>   0.000000</td>\n",
        "      <td> 1.087667e+00</td>\n",
        "      <td> 1.561150e-01</td>\n",
        "      <td>   0.000000</td>\n",
        "      <td>...</td>\n",
        "      <td>   1.550000</td>\n",
        "      <td>   0.000000</td>\n",
        "      <td>  29.760000</td>\n",
        "      <td>  46.900000</td>\n",
        "      <td>  40.743515</td>\n",
        "      <td> -73.993007</td>\n",
        "      <td>  17.000000</td>\n",
        "      <td>   0.000000</td>\n",
        "      <td>   0.000000</td>\n",
        "      <td>   0.000000</td>\n",
        "    </tr>\n",
        "    <tr>\n",
        "      <th>25%</th>\n",
        "      <td> 2.810828e+08</td>\n",
        "      <td>  6589.750000</td>\n",
        "      <td> 1.946169e+08</td>\n",
        "      <td>  3951.750000</td>\n",
        "      <td>  25.703154</td>\n",
        "      <td>   7.750000</td>\n",
        "      <td>   1.000000</td>\n",
        "      <td> 1.087667e+00</td>\n",
        "      <td> 1.561150e-01</td>\n",
        "      <td>   0.000000</td>\n",
        "      <td>...</td>\n",
        "      <td>   4.616667</td>\n",
        "      <td>   0.000000</td>\n",
        "      <td>  29.910000</td>\n",
        "      <td>  57.900000</td>\n",
        "      <td>  40.743515</td>\n",
        "      <td> -73.993007</td>\n",
        "      <td>  18.000000</td>\n",
        "      <td>   0.000000</td>\n",
        "      <td>   0.000000</td>\n",
        "      <td>   3.500000</td>\n",
        "    </tr>\n",
        "    <tr>\n",
        "      <th>50%</th>\n",
        "      <td> 2.941029e+08</td>\n",
        "      <td> 12927.500000</td>\n",
        "      <td> 2.060031e+08</td>\n",
        "      <td>  9055.500000</td>\n",
        "      <td>  30.615331</td>\n",
        "      <td>  13.500000</td>\n",
        "      <td>   3.000000</td>\n",
        "      <td> 1.087667e+00</td>\n",
        "      <td> 1.561150e-01</td>\n",
        "      <td>   0.000000</td>\n",
        "      <td>...</td>\n",
        "      <td>   5.200000</td>\n",
        "      <td>   0.000000</td>\n",
        "      <td>  29.980000</td>\n",
        "      <td>  63.000000</td>\n",
        "      <td>  40.743515</td>\n",
        "      <td> -73.993007</td>\n",
        "      <td>  19.000000</td>\n",
        "      <td>   1.000000</td>\n",
        "      <td>   0.000000</td>\n",
        "      <td>   5.800000</td>\n",
        "    </tr>\n",
        "    <tr>\n",
        "      <th>75%</th>\n",
        "      <td> 2.962915e+08</td>\n",
        "      <td> 20311.500000</td>\n",
        "      <td> 2.073193e+08</td>\n",
        "      <td> 18042.500000</td>\n",
        "      <td>  37.161365</td>\n",
        "      <td>  25.250000</td>\n",
        "      <td>   5.000000</td>\n",
        "      <td> 1.087667e+00</td>\n",
        "      <td> 1.561150e-01</td>\n",
        "      <td>   0.000000</td>\n",
        "      <td>...</td>\n",
        "      <td>   6.154167</td>\n",
        "      <td>   0.000000</td>\n",
        "      <td>  30.080000</td>\n",
        "      <td>  71.100000</td>\n",
        "      <td>  40.743515</td>\n",
        "      <td> -73.993007</td>\n",
        "      <td>  21.000000</td>\n",
        "      <td>   1.000000</td>\n",
        "      <td>   1.000000</td>\n",
        "      <td>   8.100000</td>\n",
        "    </tr>\n",
        "    <tr>\n",
        "      <th>max</th>\n",
        "      <td> 3.271478e+08</td>\n",
        "      <td> 37567.000000</td>\n",
        "      <td> 2.353659e+08</td>\n",
        "      <td> 37544.000000</td>\n",
        "      <td>  86.945062</td>\n",
        "      <td>  31.000000</td>\n",
        "      <td>   6.000000</td>\n",
        "      <td> 1.087667e+00</td>\n",
        "      <td> 1.561150e-01</td>\n",
        "      <td>   0.000000</td>\n",
        "      <td>...</td>\n",
        "      <td>   7.700000</td>\n",
        "      <td>   0.000000</td>\n",
        "      <td>  30.310000</td>\n",
        "      <td>  86.000000</td>\n",
        "      <td>  40.743515</td>\n",
        "      <td> -73.993007</td>\n",
        "      <td>  22.000000</td>\n",
        "      <td>   1.000000</td>\n",
        "      <td>   1.000000</td>\n",
        "      <td>  15.000000</td>\n",
        "    </tr>\n",
        "    <tr>\n",
        "      <th rowspan=\"8\" valign=\"top\">1</th>\n",
        "      <th>count</th>\n",
        "      <td> 4.200000e+01</td>\n",
        "      <td>    42.000000</td>\n",
        "      <td> 4.200000e+01</td>\n",
        "      <td>    42.000000</td>\n",
        "      <td>  42.000000</td>\n",
        "      <td>  42.000000</td>\n",
        "      <td>  42.000000</td>\n",
        "      <td> 4.200000e+01</td>\n",
        "      <td> 4.200000e+01</td>\n",
        "      <td>  42.000000</td>\n",
        "      <td>...</td>\n",
        "      <td>  42.000000</td>\n",
        "      <td>  42.000000</td>\n",
        "      <td>  42.000000</td>\n",
        "      <td>  42.000000</td>\n",
        "      <td>  42.000000</td>\n",
        "      <td>  42.000000</td>\n",
        "      <td>  42.000000</td>\n",
        "      <td>  42.000000</td>\n",
        "      <td>  42.000000</td>\n",
        "      <td>  42.000000</td>\n",
        "    </tr>\n",
        "    <tr>\n",
        "      <th>mean</th>\n",
        "      <td> 2.784744e+08</td>\n",
        "      <td> 17859.476190</td>\n",
        "      <td> 1.948843e+08</td>\n",
        "      <td> 14570.714286</td>\n",
        "      <td>  36.497482</td>\n",
        "      <td>  15.571429</td>\n",
        "      <td>   2.571429</td>\n",
        "      <td> 1.087667e+00</td>\n",
        "      <td> 1.561150e-01</td>\n",
        "      <td>   0.047619</td>\n",
        "      <td>...</td>\n",
        "      <td>   6.402381</td>\n",
        "      <td>   0.072908</td>\n",
        "      <td>  29.886905</td>\n",
        "      <td>  59.080952</td>\n",
        "      <td>  40.743515</td>\n",
        "      <td> -73.993007</td>\n",
        "      <td>  19.571429</td>\n",
        "      <td>   0.857143</td>\n",
        "      <td>   0.285714</td>\n",
        "      <td>   6.402381</td>\n",
        "    </tr>\n",
        "    <tr>\n",
        "      <th>std</th>\n",
        "      <td> 3.453773e+07</td>\n",
        "      <td> 12932.239799</td>\n",
        "      <td> 2.487884e+07</td>\n",
        "      <td> 12584.057483</td>\n",
        "      <td>  23.448195</td>\n",
        "      <td>   5.041984</td>\n",
        "      <td>   1.862896</td>\n",
        "      <td> 1.316446e-08</td>\n",
        "      <td> 2.327170e-09</td>\n",
        "      <td>   0.215540</td>\n",
        "      <td>...</td>\n",
        "      <td>   4.176175</td>\n",
        "      <td>   0.044892</td>\n",
        "      <td>   0.137406</td>\n",
        "      <td>   5.061921</td>\n",
        "      <td>   0.000000</td>\n",
        "      <td>   0.000001</td>\n",
        "      <td>   0.737261</td>\n",
        "      <td>   0.354169</td>\n",
        "      <td>   0.457230</td>\n",
        "      <td>   5.252896</td>\n",
        "    </tr>\n",
        "    <tr>\n",
        "      <th>min</th>\n",
        "      <td> 1.804137e+08</td>\n",
        "      <td>   808.000000</td>\n",
        "      <td> 1.173701e+08</td>\n",
        "      <td>   633.000000</td>\n",
        "      <td>  13.449804</td>\n",
        "      <td>   4.000000</td>\n",
        "      <td>   0.000000</td>\n",
        "      <td> 1.087667e+00</td>\n",
        "      <td> 1.561150e-01</td>\n",
        "      <td>   0.000000</td>\n",
        "      <td>...</td>\n",
        "      <td>   0.000000</td>\n",
        "      <td>   0.010000</td>\n",
        "      <td>  29.560000</td>\n",
        "      <td>  48.200000</td>\n",
        "      <td>  40.743515</td>\n",
        "      <td> -73.993007</td>\n",
        "      <td>  18.000000</td>\n",
        "      <td>   0.000000</td>\n",
        "      <td>   0.000000</td>\n",
        "      <td>   0.000000</td>\n",
        "    </tr>\n",
        "    <tr>\n",
        "      <th>25%</th>\n",
        "      <td> 2.740716e+08</td>\n",
        "      <td>  8746.500000</td>\n",
        "      <td> 1.908343e+08</td>\n",
        "      <td>  4418.250000</td>\n",
        "      <td>  20.838928</td>\n",
        "      <td>  15.000000</td>\n",
        "      <td>   1.000000</td>\n",
        "      <td> 1.087667e+00</td>\n",
        "      <td> 1.561150e-01</td>\n",
        "      <td>   0.000000</td>\n",
        "      <td>...</td>\n",
        "      <td>   3.650000</td>\n",
        "      <td>   0.068291</td>\n",
        "      <td>  29.775000</td>\n",
        "      <td>  55.900000</td>\n",
        "      <td>  40.743515</td>\n",
        "      <td> -73.993007</td>\n",
        "      <td>  19.000000</td>\n",
        "      <td>   1.000000</td>\n",
        "      <td>   0.000000</td>\n",
        "      <td>   0.875000</td>\n",
        "    </tr>\n",
        "    <tr>\n",
        "      <th>50%</th>\n",
        "      <td> 2.952422e+08</td>\n",
        "      <td> 13774.500000</td>\n",
        "      <td> 2.057093e+08</td>\n",
        "      <td>  8843.500000</td>\n",
        "      <td>  25.507070</td>\n",
        "      <td>  17.000000</td>\n",
        "      <td>   2.000000</td>\n",
        "      <td> 1.087667e+00</td>\n",
        "      <td> 1.561150e-01</td>\n",
        "      <td>   0.000000</td>\n",
        "      <td>...</td>\n",
        "      <td>   4.816667</td>\n",
        "      <td>   0.068291</td>\n",
        "      <td>  29.945000</td>\n",
        "      <td>  59.000000</td>\n",
        "      <td>  40.743515</td>\n",
        "      <td> -73.993007</td>\n",
        "      <td>  20.000000</td>\n",
        "      <td>   1.000000</td>\n",
        "      <td>   0.000000</td>\n",
        "      <td>   5.800000</td>\n",
        "    </tr>\n",
        "    <tr>\n",
        "      <th>75%</th>\n",
        "      <td> 2.959409e+08</td>\n",
        "      <td> 31920.000000</td>\n",
        "      <td> 2.071767e+08</td>\n",
        "      <td> 24543.250000</td>\n",
        "      <td>  63.648545</td>\n",
        "      <td>  19.000000</td>\n",
        "      <td>   4.000000</td>\n",
        "      <td> 1.087667e+00</td>\n",
        "      <td> 1.561150e-01</td>\n",
        "      <td>   0.000000</td>\n",
        "      <td>...</td>\n",
        "      <td>   9.416667</td>\n",
        "      <td>   0.068291</td>\n",
        "      <td>  29.980000</td>\n",
        "      <td>  62.475000</td>\n",
        "      <td>  40.743515</td>\n",
        "      <td> -73.993007</td>\n",
        "      <td>  20.000000</td>\n",
        "      <td>   1.000000</td>\n",
        "      <td>   1.000000</td>\n",
        "      <td>   9.200000</td>\n",
        "    </tr>\n",
        "    <tr>\n",
        "      <th>max</th>\n",
        "      <td> 3.465691e+08</td>\n",
        "      <td> 39938.000000</td>\n",
        "      <td> 2.460307e+08</td>\n",
        "      <td> 40668.000000</td>\n",
        "      <td>  76.347620</td>\n",
        "      <td>  20.000000</td>\n",
        "      <td>   6.000000</td>\n",
        "      <td> 1.087667e+00</td>\n",
        "      <td> 1.561150e-01</td>\n",
        "      <td>   1.000000</td>\n",
        "      <td>...</td>\n",
        "      <td>  13.266667</td>\n",
        "      <td>   0.210000</td>\n",
        "      <td>  30.040000</td>\n",
        "      <td>  73.000000</td>\n",
        "      <td>  40.743515</td>\n",
        "      <td> -73.993007</td>\n",
        "      <td>  20.000000</td>\n",
        "      <td>   1.000000</td>\n",
        "      <td>   1.000000</td>\n",
        "      <td>  17.300000</td>\n",
        "    </tr>\n",
        "  </tbody>\n",
        "</table>\n",
        "<p>16 rows \u00d7 27 columns</p>\n",
        "</div>"
       ],
       "metadata": {},
       "output_type": "pyout",
       "prompt_number": 42,
       "text": [
        "                ENTRIESn  ENTRIESn_hourly        EXITSn  EXITSn_hourly  \\\n",
        "rain                                                                     \n",
        "0    count  1.440000e+02       144.000000  1.440000e+02     144.000000   \n",
        "     mean   2.803489e+08     15027.416667  1.954442e+08   12519.861111   \n",
        "     std    2.997932e+07     11142.103948  2.308281e+07   10779.394741   \n",
        "     min    1.543819e+08       864.000000  1.010966e+08     512.000000   \n",
        "     25%    2.810828e+08      6589.750000  1.946169e+08    3951.750000   \n",
        "     50%    2.941029e+08     12927.500000  2.060031e+08    9055.500000   \n",
        "     75%    2.962915e+08     20311.500000  2.073193e+08   18042.500000   \n",
        "     max    3.271478e+08     37567.000000  2.353659e+08   37544.000000   \n",
        "1    count  4.200000e+01        42.000000  4.200000e+01      42.000000   \n",
        "     mean   2.784744e+08     17859.476190  1.948843e+08   14570.714286   \n",
        "     std    3.453773e+07     12932.239799  2.487884e+07   12584.057483   \n",
        "     min    1.804137e+08       808.000000  1.173701e+08     633.000000   \n",
        "     25%    2.740716e+08      8746.500000  1.908343e+08    4418.250000   \n",
        "     50%    2.952422e+08     13774.500000  2.057093e+08    8843.500000   \n",
        "     75%    2.959409e+08     31920.000000  2.071767e+08   24543.250000   \n",
        "     max    3.465691e+08     39938.000000  2.460307e+08   40668.000000   \n",
        "\n",
        "                   WCI         day    day_week     dist_CNTR       dist_ws  \\\n",
        "rain                                                                         \n",
        "0    count  144.000000  144.000000  144.000000  1.440000e+02  1.440000e+02   \n",
        "     mean    36.768546   16.125000    3.041667  1.087667e+00  1.561150e-01   \n",
        "     std     17.673077    9.833491    2.138148  1.993756e-08  2.492195e-09   \n",
        "     min     18.901155    1.000000    0.000000  1.087667e+00  1.561150e-01   \n",
        "     25%     25.703154    7.750000    1.000000  1.087667e+00  1.561150e-01   \n",
        "     50%     30.615331   13.500000    3.000000  1.087667e+00  1.561150e-01   \n",
        "     75%     37.161365   25.250000    5.000000  1.087667e+00  1.561150e-01   \n",
        "     max     86.945062   31.000000    6.000000  1.087667e+00  1.561150e-01   \n",
        "1    count   42.000000   42.000000   42.000000  4.200000e+01  4.200000e+01   \n",
        "     mean    36.497482   15.571429    2.571429  1.087667e+00  1.561150e-01   \n",
        "     std     23.448195    5.041984    1.862896  1.316446e-08  2.327170e-09   \n",
        "     min     13.449804    4.000000    0.000000  1.087667e+00  1.561150e-01   \n",
        "     25%     20.838928   15.000000    1.000000  1.087667e+00  1.561150e-01   \n",
        "     50%     25.507070   17.000000    2.000000  1.087667e+00  1.561150e-01   \n",
        "     75%     63.648545   19.000000    4.000000  1.087667e+00  1.561150e-01   \n",
        "     max     76.347620   20.000000    6.000000  1.087667e+00  1.561150e-01   \n",
        "\n",
        "                   fog     ...       meanwspdi     precipi   pressurei  \\\n",
        "rain                       ...                                           \n",
        "0    count  144.000000     ...      144.000000  144.000000  144.000000   \n",
        "     mean     0.000000     ...        5.277778    0.000000   29.998264   \n",
        "     std      0.000000     ...        1.430721    0.000000    0.126349   \n",
        "     min      0.000000     ...        1.550000    0.000000   29.760000   \n",
        "     25%      0.000000     ...        4.616667    0.000000   29.910000   \n",
        "     50%      0.000000     ...        5.200000    0.000000   29.980000   \n",
        "     75%      0.000000     ...        6.154167    0.000000   30.080000   \n",
        "     max      0.000000     ...        7.700000    0.000000   30.310000   \n",
        "1    count   42.000000     ...       42.000000   42.000000   42.000000   \n",
        "     mean     0.047619     ...        6.402381    0.072908   29.886905   \n",
        "     std      0.215540     ...        4.176175    0.044892    0.137406   \n",
        "     min      0.000000     ...        0.000000    0.010000   29.560000   \n",
        "     25%      0.000000     ...        3.650000    0.068291   29.775000   \n",
        "     50%      0.000000     ...        4.816667    0.068291   29.945000   \n",
        "     75%      0.000000     ...        9.416667    0.068291   29.980000   \n",
        "     max      1.000000     ...       13.266667    0.210000   30.040000   \n",
        "\n",
        "                 tempi  weather_lat  weather_lon        week     weekday  \\\n",
        "rain                                                                       \n",
        "0    count  144.000000   144.000000   144.000000  144.000000  144.000000   \n",
        "     mean    64.652083    40.743515   -73.993007   19.583333    0.666667   \n",
        "     std      8.978957     0.000001     0.000001    1.445998    0.473050   \n",
        "     min     46.900000    40.743515   -73.993007   17.000000    0.000000   \n",
        "     25%     57.900000    40.743515   -73.993007   18.000000    0.000000   \n",
        "     50%     63.000000    40.743515   -73.993007   19.000000    1.000000   \n",
        "     75%     71.100000    40.743515   -73.993007   21.000000    1.000000   \n",
        "     max     86.000000    40.743515   -73.993007   22.000000    1.000000   \n",
        "1    count   42.000000    42.000000    42.000000   42.000000   42.000000   \n",
        "     mean    59.080952    40.743515   -73.993007   19.571429    0.857143   \n",
        "     std      5.061921     0.000000     0.000001    0.737261    0.354169   \n",
        "     min     48.200000    40.743515   -73.993007   18.000000    0.000000   \n",
        "     25%     55.900000    40.743515   -73.993007   19.000000    1.000000   \n",
        "     50%     59.000000    40.743515   -73.993007   20.000000    1.000000   \n",
        "     75%     62.475000    40.743515   -73.993007   20.000000    1.000000   \n",
        "     max     73.000000    40.743515   -73.993007   20.000000    1.000000   \n",
        "\n",
        "               weekend       wspdi  \n",
        "rain                                \n",
        "0    count  144.000000  144.000000  \n",
        "     mean     0.458333    5.277778  \n",
        "     std      0.500000    3.078835  \n",
        "     min      0.000000    0.000000  \n",
        "     25%      0.000000    3.500000  \n",
        "     50%      0.000000    5.800000  \n",
        "     75%      1.000000    8.100000  \n",
        "     max      1.000000   15.000000  \n",
        "1    count   42.000000   42.000000  \n",
        "     mean     0.285714    6.402381  \n",
        "     std      0.457230    5.252896  \n",
        "     min      0.000000    0.000000  \n",
        "     25%      0.000000    0.875000  \n",
        "     50%      0.000000    5.800000  \n",
        "     75%      1.000000    9.200000  \n",
        "     max      1.000000   17.300000  \n",
        "\n",
        "[16 rows x 27 columns]"
       ]
      }
     ],
     "prompt_number": 42
    }
   ],
   "metadata": {}
  }
 ]
}